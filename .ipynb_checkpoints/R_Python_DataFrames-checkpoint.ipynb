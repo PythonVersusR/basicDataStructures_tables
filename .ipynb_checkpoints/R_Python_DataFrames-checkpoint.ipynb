{
  "nbformat": 4,
  "nbformat_minor": 0,
  "metadata": {
    "anaconda-cloud": {
      "attach-environment": true,
      "summary": "test"
    },
    "hide_input": false,
    "kernelspec": {
      "display_name": "Python 3",
      "language": "python",
      "name": "python3"
    },
    "language_info": {
      "codemirror_mode": {
        "name": "ipython",
        "version": 3
      },
      "file_extension": ".py",
      "mimetype": "text/x-python",
      "name": "python",
      "nbconvert_exporter": "python",
      "pygments_lexer": "ipython3",
      "version": "3.7.5"
    },
    "colab": {
      "provenance": [],
      "toc_visible": true
    }
  },
  "cells": [
    {
      "cell_type": "markdown",
      "source": [
        "<img src=\"https://i.imgur.com/6U6q5jQ.png\"/>"
      ],
      "metadata": {
        "id": "QxyRpabf1CqS"
      }
    },
    {
      "cell_type": "markdown",
      "metadata": {
        "id": "ymPHFNEttWh_"
      },
      "source": [
        "# DATA FRAMES IN R and Python"
      ]
    },
    {
      "cell_type": "code",
      "source": [
        "%load_ext rpy2.ipython"
      ],
      "metadata": {
        "id": "oo3FOXWP6ewM"
      },
      "execution_count": null,
      "outputs": []
    },
    {
      "cell_type": "markdown",
      "metadata": {
        "id": "lAgZDJ0FtWiB"
      },
      "source": [
        "**Data frames**  are more complex containers of values. The most common analogy is a spreadsheet."
      ]
    },
    {
      "cell_type": "markdown",
      "source": [
        "## 1. Creating"
      ],
      "metadata": {
        "id": "ptlQ3i-Gk-uk"
      }
    },
    {
      "cell_type": "code",
      "metadata": {
        "id": "bBT7Zz7NtWiB"
      },
      "source": [
        "namesP=[\"Qing\", \"Françoise\", \"Raúl\", \"Bjork\",\"Marie\"]\n",
        "agesP=[32,33,28,30,29]\n",
        "countryP=[\"China\", \"Senegal\", \"España\", \"Norway\",\"Korea\"]\n",
        "educationP=[\"Bach\", \"Bach\", \"Master\", \"PhD\",\"PhD\"]\n",
        "\n",
        "classroomP=dict(student=namesP,age=agesP,edu=educationP,country=countryP)\n",
        "\n",
        "import pandas as pd\n",
        "\n",
        "# our data frame:\n",
        "studentsP=pd.DataFrame(classroomP)\n",
        "## see it:\n",
        "studentsP\n"
      ],
      "execution_count": null,
      "outputs": []
    },
    {
      "cell_type": "code",
      "source": [
        "\n",
        "%%R\n",
        "namesR=c(\"Qing\", \"Françoise\", \"Raúl\", \"Bjork\",\"Marie\")\n",
        "agesR=c(32,33,28,30,29)\n",
        "countryR=c(\"China\", \"Senegal\", \"España\", \"Norway\",\"Korea\")\n",
        "educationR=c(\"Bach\", \"Bach\", \"Master\", \"PhD\",\"PhD\")\n",
        "\n",
        "classroomR=list(student=namesR,age=agesR,edu=educationR,country=countryR)\n",
        "\n",
        "studentsR=as.data.frame(do.call(cbind,classroomR))\n",
        "\n",
        "studentsR\n",
        "\n"
      ],
      "metadata": {
        "id": "gjhRpgTSiCI4"
      },
      "execution_count": null,
      "outputs": []
    },
    {
      "cell_type": "markdown",
      "source": [
        "## 2. Accessing"
      ],
      "metadata": {
        "id": "VO2eTk8fo88J"
      }
    },
    {
      "cell_type": "code",
      "source": [
        "studentsP.iloc[:,0] # \":\" means 'all'; \"iloc\" requests positions (indices)"
      ],
      "metadata": {
        "id": "Q6D3OadVo8Dx"
      },
      "execution_count": null,
      "outputs": []
    },
    {
      "cell_type": "code",
      "source": [
        "%%R\n",
        "studentsR[,1] # \"\" means 'all'."
      ],
      "metadata": {
        "id": "jqNciVtHpeHu"
      },
      "execution_count": null,
      "outputs": []
    },
    {
      "cell_type": "code",
      "source": [
        "studentsP.iloc[:,[1,2]] # indices in a list"
      ],
      "metadata": {
        "id": "IpfXomy_zxzz"
      },
      "execution_count": null,
      "outputs": []
    },
    {
      "cell_type": "code",
      "source": [
        "%%R\n",
        "studentsR[,c(2,3)] # indices in a vector"
      ],
      "metadata": {
        "id": "rBeO4gznz4lO"
      },
      "execution_count": null,
      "outputs": []
    },
    {
      "cell_type": "code",
      "source": [
        "studentsP.loc[:,'student'] # \"loc\" requires labels (not positions)"
      ],
      "metadata": {
        "id": "JuFeSvd5zBg8"
      },
      "execution_count": null,
      "outputs": []
    },
    {
      "cell_type": "code",
      "source": [
        "%%R\n",
        "studentsR[,'student'] # also valid in R"
      ],
      "metadata": {
        "id": "JehAZGwSzL0I"
      },
      "execution_count": null,
      "outputs": []
    },
    {
      "cell_type": "code",
      "source": [
        "studentsP.loc[:,['student','edu']]"
      ],
      "metadata": {
        "id": "ipGWIyLY0FwF"
      },
      "execution_count": null,
      "outputs": []
    },
    {
      "cell_type": "code",
      "source": [
        "%%R\n",
        "studentsR[,c('student','edu')]"
      ],
      "metadata": {
        "id": "Dosf9MGw0LFo"
      },
      "execution_count": null,
      "outputs": []
    },
    {
      "cell_type": "code",
      "source": [
        "studentsP.student # one column in Pandas"
      ],
      "metadata": {
        "id": "HEho8O-Qzhg_"
      },
      "execution_count": null,
      "outputs": []
    },
    {
      "cell_type": "code",
      "source": [
        "%%R\n",
        "studentsR$student # one column in R (use $)"
      ],
      "metadata": {
        "id": "lLETxYlRzkly"
      },
      "execution_count": null,
      "outputs": []
    },
    {
      "cell_type": "code",
      "source": [
        "studentsP.loc[2,'student'] # row with label 2, info about 'student'"
      ],
      "metadata": {
        "id": "8CrH_RDl0Yai"
      },
      "execution_count": null,
      "outputs": []
    },
    {
      "cell_type": "code",
      "source": [
        "studentsP.iloc[2,0] # row with position 2, info about 'student'"
      ],
      "metadata": {
        "id": "dVxgKuzmpaWn"
      },
      "execution_count": null,
      "outputs": []
    },
    {
      "cell_type": "code",
      "source": [
        "%%R\n",
        "studentsR[3,'student']"
      ],
      "metadata": {
        "id": "GGCf8aq70ebJ"
      },
      "execution_count": null,
      "outputs": []
    },
    {
      "cell_type": "code",
      "source": [
        "studentsP.loc[[2,4],['student','edu']]"
      ],
      "metadata": {
        "id": "3PLGlQW800kq"
      },
      "execution_count": null,
      "outputs": []
    },
    {
      "cell_type": "code",
      "source": [
        "%%R\n",
        "studentsR[c(3,5),c('student','edu')]"
      ],
      "metadata": {
        "id": "zfzHOgUW1ARL"
      },
      "execution_count": null,
      "outputs": []
    },
    {
      "cell_type": "markdown",
      "source": [
        "## 3. Replacing"
      ],
      "metadata": {
        "id": "7lZ3PS2l1csl"
      }
    },
    {
      "cell_type": "code",
      "source": [
        "studentsP.loc[2,'student']='Lito'\n",
        "studentsP"
      ],
      "metadata": {
        "id": "xkDjthPK1_NL"
      },
      "execution_count": null,
      "outputs": []
    },
    {
      "cell_type": "code",
      "source": [
        "%%R\n",
        "\n",
        "studentsR[3,'student']='Lito'\n",
        "studentsR"
      ],
      "metadata": {
        "id": "qbCog4MX2R3l"
      },
      "execution_count": null,
      "outputs": []
    },
    {
      "cell_type": "code",
      "source": [
        "studentsP.loc[[2,4],'age']=[32,31]\n",
        "studentsP"
      ],
      "metadata": {
        "id": "AH3my_f73VPM"
      },
      "execution_count": null,
      "outputs": []
    },
    {
      "cell_type": "code",
      "source": [
        "%%R\n",
        "\n",
        "studentsR[c(3,5),'age']=c(32,31)\n",
        "studentsR"
      ],
      "metadata": {
        "id": "2mj_iEWN5WWp"
      },
      "execution_count": null,
      "outputs": []
    },
    {
      "cell_type": "markdown",
      "source": [
        "## 4. Deleting"
      ],
      "metadata": {
        "id": "irc_DriD7BL8"
      }
    },
    {
      "cell_type": "code",
      "source": [
        "# make copy\n",
        "studentsP_new=studentsP.copy()"
      ],
      "metadata": {
        "id": "DDTZkXaksrJC"
      },
      "execution_count": null,
      "outputs": []
    },
    {
      "cell_type": "code",
      "source": [
        "%%R\n",
        "# make copy\n",
        "studentsR_new=studentsR"
      ],
      "metadata": {
        "id": "I7AztkXis0Y-"
      },
      "execution_count": null,
      "outputs": []
    },
    {
      "cell_type": "markdown",
      "metadata": {
        "id": "kNZPGMXCtWjH"
      },
      "source": [
        "### Deleting rows\n"
      ]
    },
    {
      "cell_type": "code",
      "metadata": {
        "id": "z-DeQOPatWjH"
      },
      "source": [
        "byeRows=[2,3]\n",
        "studentsP_new.drop(index=byeRows,inplace=True) #inplace=inmediately\n",
        "#then\n",
        "studentsP_new"
      ],
      "execution_count": null,
      "outputs": []
    },
    {
      "cell_type": "markdown",
      "metadata": {
        "id": "F_CZVds5tWjJ"
      },
      "source": [
        "As you see, the indexes dissapeared. Then, you should reset the indexes:"
      ]
    },
    {
      "cell_type": "code",
      "metadata": {
        "id": "6jfrFl1LtWjJ"
      },
      "source": [
        "studentsP_new.reset_index(drop=True,inplace=True)\n",
        "#then\n",
        "studentsP_new"
      ],
      "execution_count": null,
      "outputs": []
    },
    {
      "cell_type": "code",
      "source": [
        "%%R\n",
        "byeRows=c(3,4)\n",
        "studentsR_new=studentsR_new[-byeRows,] # rewriting (NO 'inplace')\n",
        "#then\n",
        "studentsR_new"
      ],
      "metadata": {
        "id": "tNu6lZWW75kK"
      },
      "execution_count": null,
      "outputs": []
    },
    {
      "cell_type": "code",
      "source": [
        "%%R\n",
        "#reset indexes\n",
        "row.names(studentsR_new)=NULL\n",
        "#then\n",
        "studentsR_new"
      ],
      "metadata": {
        "id": "dCcEI9osuwAz"
      },
      "execution_count": null,
      "outputs": []
    },
    {
      "cell_type": "markdown",
      "metadata": {
        "id": "umb6K9uytWi8"
      },
      "source": [
        "### Deleting columns"
      ]
    },
    {
      "cell_type": "code",
      "metadata": {
        "id": "f5wrE0oNtWi_"
      },
      "source": [
        "# This is what you want get rid of:\n",
        "byeColumns=['edu'] # you can delete more than one\n",
        "\n",
        "#this is the result\n",
        "studentsP_new.drop(columns=byeColumns,inplace=True)\n",
        "#then\n",
        "studentsP_new"
      ],
      "execution_count": null,
      "outputs": []
    },
    {
      "cell_type": "code",
      "source": [
        "%%R\n",
        "\n",
        "byeColumns=c('edu') # this doesn't work: studentsR_new[,-byeColumns]\n",
        "keepCols=setdiff(names(studentsR_new),byeColumns)\n",
        "studentsR_new=studentsR_new[,keepCols]\n",
        "#then\n",
        "studentsR_new\n"
      ],
      "metadata": {
        "id": "iugn8DE6-_vI"
      },
      "execution_count": null,
      "outputs": []
    },
    {
      "cell_type": "markdown",
      "source": [
        "### Deleting cells"
      ],
      "metadata": {
        "id": "JtogOkiQziXv"
      }
    },
    {
      "cell_type": "code",
      "source": [
        "studentsP_new.loc[2,'country']=pd.NA\n",
        "#then\n",
        "studentsP_new\n"
      ],
      "metadata": {
        "id": "gh75yvaxzeCC"
      },
      "execution_count": null,
      "outputs": []
    },
    {
      "cell_type": "code",
      "source": [
        "%%R\n",
        "studentsR_new[3,'country']=NA\n",
        "#then\n",
        "studentsR_new"
      ],
      "metadata": {
        "id": "798EEio11LRF"
      },
      "execution_count": null,
      "outputs": []
    },
    {
      "cell_type": "markdown",
      "source": [
        "## Inserting"
      ],
      "metadata": {
        "id": "jurIHo8xLZVb"
      }
    },
    {
      "cell_type": "code",
      "source": [
        "#currently\n",
        "studentsP"
      ],
      "metadata": {
        "id": "WBgj0NrexcHN"
      },
      "execution_count": null,
      "outputs": []
    },
    {
      "cell_type": "code",
      "source": [
        "femaleP=[True,True,False,False,True]\n",
        "studentsP1=studentsP.assign(female=femaleP)\n",
        "#then\n",
        "studentsP1"
      ],
      "metadata": {
        "id": "GBCT012MLc6d"
      },
      "execution_count": null,
      "outputs": []
    },
    {
      "cell_type": "code",
      "source": [
        "#another way\n",
        "studentsP2=studentsP.copy()\n",
        "studentsP2['female']=femaleP\n",
        "#then\n",
        "studentsP2"
      ],
      "metadata": {
        "id": "KTMTMfAkN14M"
      },
      "execution_count": null,
      "outputs": []
    },
    {
      "cell_type": "code",
      "source": [
        "#yet another way\n",
        "studentsP3=studentsP.copy()\n",
        "studentsP3.loc[:,'female']=femaleP\n",
        "studentsP3"
      ],
      "metadata": {
        "id": "akbCZgdjNZJb"
      },
      "execution_count": null,
      "outputs": []
    },
    {
      "cell_type": "code",
      "source": [
        "%%R\n",
        "femaleR=c(T,T,F,F,T)\n",
        "studentsR1=cbind(studentsR,female=femaleR)\n",
        "studentsR1"
      ],
      "metadata": {
        "id": "XYPl85yEPHdv"
      },
      "execution_count": null,
      "outputs": []
    },
    {
      "cell_type": "code",
      "source": [
        "%%R\n",
        "studentsR2=studentsR\n",
        "studentsR2$female=femaleR\n",
        "studentsR2"
      ],
      "metadata": {
        "id": "oaqD2n83OgtN"
      },
      "execution_count": null,
      "outputs": []
    },
    {
      "cell_type": "code",
      "source": [
        "%%R\n",
        "studentsR3=studentsR\n",
        "studentsR3[,'female']=femaleR\n",
        "studentsR3"
      ],
      "metadata": {
        "id": "___kNEQ4PpJJ"
      },
      "execution_count": null,
      "outputs": []
    },
    {
      "cell_type": "markdown",
      "metadata": {
        "id": "R13g85HDtWiR"
      },
      "source": [
        "## Other basic operations"
      ]
    },
    {
      "cell_type": "code",
      "metadata": {
        "id": "VRaEn3gptWiR"
      },
      "source": [
        "# data of structure: list? tuple? dataframe?\n",
        "type(studentsP)"
      ],
      "execution_count": null,
      "outputs": []
    },
    {
      "cell_type": "code",
      "source": [
        "%%R\n",
        "class(studentsR)"
      ],
      "metadata": {
        "id": "M8lBhAxYBMZ4"
      },
      "execution_count": null,
      "outputs": []
    },
    {
      "cell_type": "code",
      "metadata": {
        "id": "G1MRSmdetWiV"
      },
      "source": [
        "# type of data in data frame column\n",
        "studentsP.info()"
      ],
      "execution_count": null,
      "outputs": []
    },
    {
      "cell_type": "code",
      "metadata": {
        "id": "XU7LZVYitWiZ"
      },
      "source": [
        "# details of data frame\n",
        "%%R\n",
        "\n",
        "str(studentsR)"
      ],
      "execution_count": null,
      "outputs": []
    },
    {
      "cell_type": "code",
      "metadata": {
        "id": "RBT60oJvtWid"
      },
      "source": [
        "# number of rows and columns\n",
        "studentsP.shape"
      ],
      "execution_count": null,
      "outputs": []
    },
    {
      "cell_type": "code",
      "source": [
        "%%R\n",
        "dim(studentsR)"
      ],
      "metadata": {
        "id": "rzN79pLyBjwK"
      },
      "execution_count": null,
      "outputs": []
    },
    {
      "cell_type": "code",
      "metadata": {
        "id": "EaA4xitwtWif"
      },
      "source": [
        "# number of rows:\n",
        "len(studentsP)"
      ],
      "execution_count": null,
      "outputs": []
    },
    {
      "cell_type": "code",
      "source": [
        "%%R\n",
        "\n",
        "length(studentsR)"
      ],
      "metadata": {
        "id": "4q_W0LL6B2ct"
      },
      "execution_count": null,
      "outputs": []
    },
    {
      "cell_type": "code",
      "metadata": {
        "id": "9Vpvd-7RtWij"
      },
      "source": [
        "# first rows\n",
        "studentsP.head(2) # compare with: studentsP.tail(2)"
      ],
      "execution_count": null,
      "outputs": []
    },
    {
      "cell_type": "code",
      "source": [
        "%%R\n",
        "head(studentsR,2) # compare with: tail(studentsR,2)"
      ],
      "metadata": {
        "id": "CK5Ly1H_CAHy"
      },
      "execution_count": null,
      "outputs": []
    },
    {
      "cell_type": "code",
      "metadata": {
        "id": "QHsnwLhgtWik"
      },
      "source": [
        "# name of columns\n",
        "studentsP.columns"
      ],
      "execution_count": null,
      "outputs": []
    },
    {
      "cell_type": "code",
      "source": [
        "%%R\n",
        "names(studentsR)"
      ],
      "metadata": {
        "id": "yLxgD_CWCKOu"
      },
      "execution_count": null,
      "outputs": []
    },
    {
      "cell_type": "markdown",
      "source": [
        "## Queries"
      ],
      "metadata": {
        "id": "ixodYzmqj7Rd"
      }
    },
    {
      "cell_type": "code",
      "source": [
        "studentsP1.iloc[0,1]=33\n",
        "studentsP1"
      ],
      "metadata": {
        "id": "HIxFHtQbj_Nm"
      },
      "execution_count": null,
      "outputs": []
    },
    {
      "cell_type": "code",
      "source": [
        "#who is the oldest?\n",
        "\n",
        "studentsP1[studentsP1.age==max(studentsP1.age)]"
      ],
      "metadata": {
        "id": "LEgEZrV_kXjH"
      },
      "execution_count": null,
      "outputs": []
    },
    {
      "cell_type": "code",
      "source": [
        "studentsP1[studentsP1.age==studentsP1.age.max()]['student']"
      ],
      "metadata": {
        "id": "zdI-qh6nk1Iy"
      },
      "execution_count": null,
      "outputs": []
    },
    {
      "cell_type": "code",
      "source": [
        "%%R\n",
        "studentsR1[1,2]=33\n",
        "studentsR1\n"
      ],
      "metadata": {
        "id": "5dHHOA0ckSo_"
      },
      "execution_count": null,
      "outputs": []
    },
    {
      "cell_type": "code",
      "source": [
        "%%R\n",
        "\n",
        "#who is the oldest?\n",
        "\n",
        "studentsR1[which.max(studentsR1$age),]"
      ],
      "metadata": {
        "id": "VBtqIfRdkWB-"
      },
      "execution_count": null,
      "outputs": []
    },
    {
      "cell_type": "code",
      "source": [
        "%%R\n",
        "studentsR1[studentsR1$age==max(studentsR1$age),]"
      ],
      "metadata": {
        "id": "wClJyaO5oyE9"
      },
      "execution_count": null,
      "outputs": []
    },
    {
      "cell_type": "code",
      "source": [
        "%%R\n",
        "studentsR1[studentsR1$age==max(studentsR1$age),'student']"
      ],
      "metadata": {
        "id": "zEA5r2lYo34k"
      },
      "execution_count": null,
      "outputs": []
    },
    {
      "cell_type": "code",
      "source": [
        "#who has PhD?\n",
        "\n",
        "studentsP1[studentsP1.edu=='PhD']"
      ],
      "metadata": {
        "id": "fXfjIQQdqavQ"
      },
      "execution_count": null,
      "outputs": []
    },
    {
      "cell_type": "code",
      "source": [
        "%%R\n",
        "studentsR1[studentsR1$edu=='PhD',]"
      ],
      "metadata": {
        "id": "2tVDO3Mcqt7Y"
      },
      "execution_count": null,
      "outputs": []
    },
    {
      "cell_type": "code",
      "source": [
        "#who has PhD or Master?\n",
        "studentsP1[studentsP1.edu.isin(['PhD','Master'])]"
      ],
      "metadata": {
        "id": "kbw5wTlpqiAK"
      },
      "execution_count": null,
      "outputs": []
    },
    {
      "cell_type": "code",
      "source": [
        "%%R\n",
        "studentsR1[studentsR1$edu %in% c('PhD','Master'),]"
      ],
      "metadata": {
        "id": "svxxw9Hgq3sA"
      },
      "execution_count": null,
      "outputs": []
    },
    {
      "cell_type": "code",
      "source": [
        "#who does not has PhD or Master?\n",
        "studentsP1[~studentsP1.edu.isin(['PhD','Master'])]"
      ],
      "metadata": {
        "id": "TeE8AztCrDiz"
      },
      "execution_count": null,
      "outputs": []
    },
    {
      "cell_type": "code",
      "source": [
        "%%R\n",
        "studentsR1[!studentsR1$edu %in% c('PhD','Master'),]"
      ],
      "metadata": {
        "id": "qAof0v9Qrfw2"
      },
      "execution_count": null,
      "outputs": []
    },
    {
      "cell_type": "code",
      "source": [
        "#the youngest female\n",
        "studentsP1[studentsP1.female]"
      ],
      "metadata": {
        "id": "c4zavUHDrjNs"
      },
      "execution_count": null,
      "outputs": []
    },
    {
      "cell_type": "code",
      "source": [
        "studentsP1[studentsP1.female].sort_values(by=['age'],ascending=True).iloc[0,0]"
      ],
      "metadata": {
        "id": "CTTPDmL0sA5w"
      },
      "execution_count": null,
      "outputs": []
    },
    {
      "cell_type": "code",
      "source": [
        "%%R\n",
        "studentsR1[studentsR1$female,]"
      ],
      "metadata": {
        "id": "fmjqIu_BwGzM"
      },
      "execution_count": null,
      "outputs": []
    },
    {
      "cell_type": "code",
      "source": [
        "%%R\n",
        "tail(studentsR1[studentsR1$female,][order(studentsR1$age)],1)"
      ],
      "metadata": {
        "id": "brSODwTTwOJx"
      },
      "execution_count": null,
      "outputs": []
    },
    {
      "cell_type": "code",
      "source": [
        "studentsP1[studentsP1.female & studentsP1.age==studentsP1.age.min()]"
      ],
      "metadata": {
        "id": "b3550Z-kwWkB"
      },
      "execution_count": null,
      "outputs": []
    },
    {
      "cell_type": "code",
      "source": [
        "femdf=studentsP1[studentsP1.female]\n",
        "femdf"
      ],
      "metadata": {
        "id": "wGeUO5FZMXUS"
      },
      "execution_count": null,
      "outputs": []
    },
    {
      "cell_type": "code",
      "source": [
        "femdf[femdf.age==femdf.age.min()]"
      ],
      "metadata": {
        "id": "tNY1mqWpMiyA"
      },
      "execution_count": null,
      "outputs": []
    }
  ]
}