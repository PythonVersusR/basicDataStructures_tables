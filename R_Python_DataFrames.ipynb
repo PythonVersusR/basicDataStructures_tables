{
 "cells": [
  {
   "cell_type": "markdown",
   "metadata": {
    "id": "QxyRpabf1CqS"
   },
   "source": [
    "<img src=\"https://i.imgur.com/6U6q5jQ.png\"/>"
   ]
  },
  {
   "cell_type": "markdown",
   "metadata": {
    "id": "ymPHFNEttWh_"
   },
   "source": [
    "# DATA FRAMES IN R and Python"
   ]
  },
  {
   "cell_type": "code",
   "execution_count": 1,
   "metadata": {},
   "outputs": [],
   "source": [
    "## if needed, run this and RESTART KERNEL\n",
    "import os\n",
    "os.environ['R_HOME'] ='/Library/Frameworks/R.framework/Resources'"
   ]
  },
  {
   "cell_type": "code",
   "execution_count": 2,
   "metadata": {
    "id": "oo3FOXWP6ewM"
   },
   "outputs": [],
   "source": [
    "%load_ext rpy2.ipython"
   ]
  },
  {
   "cell_type": "markdown",
   "metadata": {
    "id": "lAgZDJ0FtWiB"
   },
   "source": [
    "**Data frames**  are more complex containers of values. The most common analogy is a spreadsheet."
   ]
  },
  {
   "cell_type": "markdown",
   "metadata": {
    "id": "ptlQ3i-Gk-uk"
   },
   "source": [
    "## 1. Creating"
   ]
  },
  {
   "cell_type": "code",
   "execution_count": 3,
   "metadata": {
    "id": "bBT7Zz7NtWiB"
   },
   "outputs": [
    {
     "data": {
      "text/html": [
       "<div>\n",
       "<style scoped>\n",
       "    .dataframe tbody tr th:only-of-type {\n",
       "        vertical-align: middle;\n",
       "    }\n",
       "\n",
       "    .dataframe tbody tr th {\n",
       "        vertical-align: top;\n",
       "    }\n",
       "\n",
       "    .dataframe thead th {\n",
       "        text-align: right;\n",
       "    }\n",
       "</style>\n",
       "<table border=\"1\" class=\"dataframe\">\n",
       "  <thead>\n",
       "    <tr style=\"text-align: right;\">\n",
       "      <th></th>\n",
       "      <th>student</th>\n",
       "      <th>age</th>\n",
       "      <th>edu</th>\n",
       "      <th>country</th>\n",
       "    </tr>\n",
       "  </thead>\n",
       "  <tbody>\n",
       "    <tr>\n",
       "      <th>0</th>\n",
       "      <td>Qing</td>\n",
       "      <td>32</td>\n",
       "      <td>Bach</td>\n",
       "      <td>China</td>\n",
       "    </tr>\n",
       "    <tr>\n",
       "      <th>1</th>\n",
       "      <td>Françoise</td>\n",
       "      <td>33</td>\n",
       "      <td>Bach</td>\n",
       "      <td>Senegal</td>\n",
       "    </tr>\n",
       "    <tr>\n",
       "      <th>2</th>\n",
       "      <td>Raúl</td>\n",
       "      <td>28</td>\n",
       "      <td>Master</td>\n",
       "      <td>España</td>\n",
       "    </tr>\n",
       "    <tr>\n",
       "      <th>3</th>\n",
       "      <td>Bjork</td>\n",
       "      <td>30</td>\n",
       "      <td>PhD</td>\n",
       "      <td>Norway</td>\n",
       "    </tr>\n",
       "    <tr>\n",
       "      <th>4</th>\n",
       "      <td>Marie</td>\n",
       "      <td>29</td>\n",
       "      <td>PhD</td>\n",
       "      <td>Korea</td>\n",
       "    </tr>\n",
       "  </tbody>\n",
       "</table>\n",
       "</div>"
      ],
      "text/plain": [
       "     student  age     edu  country\n",
       "0       Qing   32    Bach    China\n",
       "1  Françoise   33    Bach  Senegal\n",
       "2       Raúl   28  Master   España\n",
       "3      Bjork   30     PhD   Norway\n",
       "4      Marie   29     PhD    Korea"
      ]
     },
     "execution_count": 3,
     "metadata": {},
     "output_type": "execute_result"
    }
   ],
   "source": [
    "namesP=[\"Qing\", \"Françoise\", \"Raúl\", \"Bjork\",\"Marie\"]\n",
    "agesP=[32,33,28,30,29]\n",
    "countryP=[\"China\", \"Senegal\", \"España\", \"Norway\",\"Korea\"]\n",
    "educationP=[\"Bach\", \"Bach\", \"Master\", \"PhD\",\"PhD\"]\n",
    "\n",
    "classroomP=dict(student=namesP,age=agesP,edu=educationP,country=countryP)\n",
    "\n",
    "import pandas as pd\n",
    "\n",
    "# our data frame:\n",
    "studentsP=pd.DataFrame(classroomP)\n",
    "## see it:\n",
    "studentsP\n"
   ]
  },
  {
   "cell_type": "code",
   "execution_count": 4,
   "metadata": {
    "id": "gjhRpgTSiCI4"
   },
   "outputs": [
    {
     "name": "stdout",
     "output_type": "stream",
     "text": [
      "    student age    edu country\n",
      "1      Qing  32   Bach   China\n",
      "2 Françoise  33   Bach Senegal\n",
      "3      Raúl  28 Master  España\n",
      "4     Bjork  30    PhD  Norway\n",
      "5     Marie  29    PhD   Korea\n"
     ]
    }
   ],
   "source": [
    "\n",
    "%%R\n",
    "namesR=c(\"Qing\", \"Françoise\", \"Raúl\", \"Bjork\",\"Marie\")\n",
    "agesR=c(32,33,28,30,29)\n",
    "countryR=c(\"China\", \"Senegal\", \"España\", \"Norway\",\"Korea\")\n",
    "educationR=c(\"Bach\", \"Bach\", \"Master\", \"PhD\",\"PhD\")\n",
    "\n",
    "classroomR=list(student=namesR,age=agesR,edu=educationR,country=countryR)\n",
    "\n",
    "studentsR=as.data.frame(do.call(cbind,classroomR))\n",
    "\n",
    "studentsR\n",
    "\n"
   ]
  },
  {
   "cell_type": "markdown",
   "metadata": {
    "id": "VO2eTk8fo88J"
   },
   "source": [
    "## 2. Accessing"
   ]
  },
  {
   "cell_type": "code",
   "execution_count": 5,
   "metadata": {
    "id": "Q6D3OadVo8Dx"
   },
   "outputs": [
    {
     "data": {
      "text/plain": [
       "0         Qing\n",
       "1    Françoise\n",
       "2         Raúl\n",
       "3        Bjork\n",
       "4        Marie\n",
       "Name: student, dtype: object"
      ]
     },
     "execution_count": 5,
     "metadata": {},
     "output_type": "execute_result"
    }
   ],
   "source": [
    "studentsP.iloc[:,0] # \":\" means 'all'; \"iloc\" requests positions (indices)"
   ]
  },
  {
   "cell_type": "code",
   "execution_count": 6,
   "metadata": {
    "id": "jqNciVtHpeHu"
   },
   "outputs": [
    {
     "name": "stdout",
     "output_type": "stream",
     "text": [
      "[1] \"Qing\"      \"Françoise\" \"Raúl\"      \"Bjork\"     \"Marie\"    \n"
     ]
    }
   ],
   "source": [
    "%%R\n",
    "studentsR[,1] # \"\" means 'all'."
   ]
  },
  {
   "cell_type": "code",
   "execution_count": 7,
   "metadata": {
    "id": "IpfXomy_zxzz"
   },
   "outputs": [
    {
     "data": {
      "text/html": [
       "<div>\n",
       "<style scoped>\n",
       "    .dataframe tbody tr th:only-of-type {\n",
       "        vertical-align: middle;\n",
       "    }\n",
       "\n",
       "    .dataframe tbody tr th {\n",
       "        vertical-align: top;\n",
       "    }\n",
       "\n",
       "    .dataframe thead th {\n",
       "        text-align: right;\n",
       "    }\n",
       "</style>\n",
       "<table border=\"1\" class=\"dataframe\">\n",
       "  <thead>\n",
       "    <tr style=\"text-align: right;\">\n",
       "      <th></th>\n",
       "      <th>age</th>\n",
       "      <th>edu</th>\n",
       "    </tr>\n",
       "  </thead>\n",
       "  <tbody>\n",
       "    <tr>\n",
       "      <th>0</th>\n",
       "      <td>32</td>\n",
       "      <td>Bach</td>\n",
       "    </tr>\n",
       "    <tr>\n",
       "      <th>1</th>\n",
       "      <td>33</td>\n",
       "      <td>Bach</td>\n",
       "    </tr>\n",
       "    <tr>\n",
       "      <th>2</th>\n",
       "      <td>28</td>\n",
       "      <td>Master</td>\n",
       "    </tr>\n",
       "    <tr>\n",
       "      <th>3</th>\n",
       "      <td>30</td>\n",
       "      <td>PhD</td>\n",
       "    </tr>\n",
       "    <tr>\n",
       "      <th>4</th>\n",
       "      <td>29</td>\n",
       "      <td>PhD</td>\n",
       "    </tr>\n",
       "  </tbody>\n",
       "</table>\n",
       "</div>"
      ],
      "text/plain": [
       "   age     edu\n",
       "0   32    Bach\n",
       "1   33    Bach\n",
       "2   28  Master\n",
       "3   30     PhD\n",
       "4   29     PhD"
      ]
     },
     "execution_count": 7,
     "metadata": {},
     "output_type": "execute_result"
    }
   ],
   "source": [
    "studentsP.iloc[:,[1,2]] # indices in a list"
   ]
  },
  {
   "cell_type": "code",
   "execution_count": 8,
   "metadata": {
    "id": "rBeO4gznz4lO"
   },
   "outputs": [
    {
     "name": "stdout",
     "output_type": "stream",
     "text": [
      "  age    edu\n",
      "1  32   Bach\n",
      "2  33   Bach\n",
      "3  28 Master\n",
      "4  30    PhD\n",
      "5  29    PhD\n"
     ]
    }
   ],
   "source": [
    "%%R\n",
    "studentsR[,c(2,3)] # indices in a vector"
   ]
  },
  {
   "cell_type": "code",
   "execution_count": 9,
   "metadata": {
    "id": "JuFeSvd5zBg8"
   },
   "outputs": [
    {
     "data": {
      "text/plain": [
       "0         Qing\n",
       "1    Françoise\n",
       "2         Raúl\n",
       "3        Bjork\n",
       "4        Marie\n",
       "Name: student, dtype: object"
      ]
     },
     "execution_count": 9,
     "metadata": {},
     "output_type": "execute_result"
    }
   ],
   "source": [
    "studentsP.loc[:,'student'] # \"loc\" requires labels (not positions)"
   ]
  },
  {
   "cell_type": "code",
   "execution_count": 10,
   "metadata": {
    "id": "JehAZGwSzL0I"
   },
   "outputs": [
    {
     "name": "stdout",
     "output_type": "stream",
     "text": [
      "[1] \"Qing\"      \"Françoise\" \"Raúl\"      \"Bjork\"     \"Marie\"    \n"
     ]
    }
   ],
   "source": [
    "%%R\n",
    "studentsR[,'student'] # also valid in R"
   ]
  },
  {
   "cell_type": "code",
   "execution_count": 11,
   "metadata": {
    "id": "ipGWIyLY0FwF"
   },
   "outputs": [
    {
     "data": {
      "text/html": [
       "<div>\n",
       "<style scoped>\n",
       "    .dataframe tbody tr th:only-of-type {\n",
       "        vertical-align: middle;\n",
       "    }\n",
       "\n",
       "    .dataframe tbody tr th {\n",
       "        vertical-align: top;\n",
       "    }\n",
       "\n",
       "    .dataframe thead th {\n",
       "        text-align: right;\n",
       "    }\n",
       "</style>\n",
       "<table border=\"1\" class=\"dataframe\">\n",
       "  <thead>\n",
       "    <tr style=\"text-align: right;\">\n",
       "      <th></th>\n",
       "      <th>student</th>\n",
       "      <th>edu</th>\n",
       "    </tr>\n",
       "  </thead>\n",
       "  <tbody>\n",
       "    <tr>\n",
       "      <th>0</th>\n",
       "      <td>Qing</td>\n",
       "      <td>Bach</td>\n",
       "    </tr>\n",
       "    <tr>\n",
       "      <th>1</th>\n",
       "      <td>Françoise</td>\n",
       "      <td>Bach</td>\n",
       "    </tr>\n",
       "    <tr>\n",
       "      <th>2</th>\n",
       "      <td>Raúl</td>\n",
       "      <td>Master</td>\n",
       "    </tr>\n",
       "    <tr>\n",
       "      <th>3</th>\n",
       "      <td>Bjork</td>\n",
       "      <td>PhD</td>\n",
       "    </tr>\n",
       "    <tr>\n",
       "      <th>4</th>\n",
       "      <td>Marie</td>\n",
       "      <td>PhD</td>\n",
       "    </tr>\n",
       "  </tbody>\n",
       "</table>\n",
       "</div>"
      ],
      "text/plain": [
       "     student     edu\n",
       "0       Qing    Bach\n",
       "1  Françoise    Bach\n",
       "2       Raúl  Master\n",
       "3      Bjork     PhD\n",
       "4      Marie     PhD"
      ]
     },
     "execution_count": 11,
     "metadata": {},
     "output_type": "execute_result"
    }
   ],
   "source": [
    "studentsP.loc[:,['student','edu']]"
   ]
  },
  {
   "cell_type": "code",
   "execution_count": 12,
   "metadata": {
    "id": "Dosf9MGw0LFo"
   },
   "outputs": [
    {
     "name": "stdout",
     "output_type": "stream",
     "text": [
      "    student    edu\n",
      "1      Qing   Bach\n",
      "2 Françoise   Bach\n",
      "3      Raúl Master\n",
      "4     Bjork    PhD\n",
      "5     Marie    PhD\n"
     ]
    }
   ],
   "source": [
    "%%R\n",
    "studentsR[,c('student','edu')]"
   ]
  },
  {
   "cell_type": "code",
   "execution_count": 13,
   "metadata": {
    "id": "HEho8O-Qzhg_"
   },
   "outputs": [
    {
     "data": {
      "text/plain": [
       "0         Qing\n",
       "1    Françoise\n",
       "2         Raúl\n",
       "3        Bjork\n",
       "4        Marie\n",
       "Name: student, dtype: object"
      ]
     },
     "execution_count": 13,
     "metadata": {},
     "output_type": "execute_result"
    }
   ],
   "source": [
    "studentsP.student # one column in Pandas"
   ]
  },
  {
   "cell_type": "code",
   "execution_count": 14,
   "metadata": {
    "id": "lLETxYlRzkly"
   },
   "outputs": [
    {
     "name": "stdout",
     "output_type": "stream",
     "text": [
      "[1] \"Qing\"      \"Françoise\" \"Raúl\"      \"Bjork\"     \"Marie\"    \n"
     ]
    }
   ],
   "source": [
    "%%R\n",
    "studentsR$student # one column in R (use $)"
   ]
  },
  {
   "cell_type": "code",
   "execution_count": 15,
   "metadata": {
    "id": "8CrH_RDl0Yai"
   },
   "outputs": [
    {
     "data": {
      "text/plain": [
       "'Raúl'"
      ]
     },
     "execution_count": 15,
     "metadata": {},
     "output_type": "execute_result"
    }
   ],
   "source": [
    "studentsP.loc[2,'student'] # row with label 2, info about 'student'"
   ]
  },
  {
   "cell_type": "code",
   "execution_count": 16,
   "metadata": {
    "id": "dVxgKuzmpaWn"
   },
   "outputs": [
    {
     "data": {
      "text/plain": [
       "'Raúl'"
      ]
     },
     "execution_count": 16,
     "metadata": {},
     "output_type": "execute_result"
    }
   ],
   "source": [
    "studentsP.iloc[2,0] # row with position 2, info about 'student'"
   ]
  },
  {
   "cell_type": "code",
   "execution_count": 17,
   "metadata": {
    "id": "GGCf8aq70ebJ"
   },
   "outputs": [
    {
     "name": "stdout",
     "output_type": "stream",
     "text": [
      "[1] \"Raúl\"\n"
     ]
    }
   ],
   "source": [
    "%%R\n",
    "studentsR[3,'student']"
   ]
  },
  {
   "cell_type": "code",
   "execution_count": 18,
   "metadata": {
    "id": "3PLGlQW800kq"
   },
   "outputs": [
    {
     "data": {
      "text/html": [
       "<div>\n",
       "<style scoped>\n",
       "    .dataframe tbody tr th:only-of-type {\n",
       "        vertical-align: middle;\n",
       "    }\n",
       "\n",
       "    .dataframe tbody tr th {\n",
       "        vertical-align: top;\n",
       "    }\n",
       "\n",
       "    .dataframe thead th {\n",
       "        text-align: right;\n",
       "    }\n",
       "</style>\n",
       "<table border=\"1\" class=\"dataframe\">\n",
       "  <thead>\n",
       "    <tr style=\"text-align: right;\">\n",
       "      <th></th>\n",
       "      <th>student</th>\n",
       "      <th>edu</th>\n",
       "    </tr>\n",
       "  </thead>\n",
       "  <tbody>\n",
       "    <tr>\n",
       "      <th>2</th>\n",
       "      <td>Raúl</td>\n",
       "      <td>Master</td>\n",
       "    </tr>\n",
       "    <tr>\n",
       "      <th>4</th>\n",
       "      <td>Marie</td>\n",
       "      <td>PhD</td>\n",
       "    </tr>\n",
       "  </tbody>\n",
       "</table>\n",
       "</div>"
      ],
      "text/plain": [
       "  student     edu\n",
       "2    Raúl  Master\n",
       "4   Marie     PhD"
      ]
     },
     "execution_count": 18,
     "metadata": {},
     "output_type": "execute_result"
    }
   ],
   "source": [
    "studentsP.loc[[2,4],['student','edu']]"
   ]
  },
  {
   "cell_type": "code",
   "execution_count": 19,
   "metadata": {
    "id": "zfzHOgUW1ARL"
   },
   "outputs": [
    {
     "name": "stdout",
     "output_type": "stream",
     "text": [
      "  student    edu\n",
      "3    Raúl Master\n",
      "5   Marie    PhD\n"
     ]
    }
   ],
   "source": [
    "%%R\n",
    "studentsR[c(3,5),c('student','edu')]"
   ]
  },
  {
   "cell_type": "markdown",
   "metadata": {
    "id": "7lZ3PS2l1csl"
   },
   "source": [
    "## 3. Replacing"
   ]
  },
  {
   "cell_type": "code",
   "execution_count": 20,
   "metadata": {
    "id": "xkDjthPK1_NL"
   },
   "outputs": [
    {
     "data": {
      "text/html": [
       "<div>\n",
       "<style scoped>\n",
       "    .dataframe tbody tr th:only-of-type {\n",
       "        vertical-align: middle;\n",
       "    }\n",
       "\n",
       "    .dataframe tbody tr th {\n",
       "        vertical-align: top;\n",
       "    }\n",
       "\n",
       "    .dataframe thead th {\n",
       "        text-align: right;\n",
       "    }\n",
       "</style>\n",
       "<table border=\"1\" class=\"dataframe\">\n",
       "  <thead>\n",
       "    <tr style=\"text-align: right;\">\n",
       "      <th></th>\n",
       "      <th>student</th>\n",
       "      <th>age</th>\n",
       "      <th>edu</th>\n",
       "      <th>country</th>\n",
       "    </tr>\n",
       "  </thead>\n",
       "  <tbody>\n",
       "    <tr>\n",
       "      <th>0</th>\n",
       "      <td>Qing</td>\n",
       "      <td>32</td>\n",
       "      <td>Bach</td>\n",
       "      <td>China</td>\n",
       "    </tr>\n",
       "    <tr>\n",
       "      <th>1</th>\n",
       "      <td>Françoise</td>\n",
       "      <td>33</td>\n",
       "      <td>Bach</td>\n",
       "      <td>Senegal</td>\n",
       "    </tr>\n",
       "    <tr>\n",
       "      <th>2</th>\n",
       "      <td>Lito</td>\n",
       "      <td>28</td>\n",
       "      <td>Master</td>\n",
       "      <td>España</td>\n",
       "    </tr>\n",
       "    <tr>\n",
       "      <th>3</th>\n",
       "      <td>Bjork</td>\n",
       "      <td>30</td>\n",
       "      <td>PhD</td>\n",
       "      <td>Norway</td>\n",
       "    </tr>\n",
       "    <tr>\n",
       "      <th>4</th>\n",
       "      <td>Marie</td>\n",
       "      <td>29</td>\n",
       "      <td>PhD</td>\n",
       "      <td>Korea</td>\n",
       "    </tr>\n",
       "  </tbody>\n",
       "</table>\n",
       "</div>"
      ],
      "text/plain": [
       "     student  age     edu  country\n",
       "0       Qing   32    Bach    China\n",
       "1  Françoise   33    Bach  Senegal\n",
       "2       Lito   28  Master   España\n",
       "3      Bjork   30     PhD   Norway\n",
       "4      Marie   29     PhD    Korea"
      ]
     },
     "execution_count": 20,
     "metadata": {},
     "output_type": "execute_result"
    }
   ],
   "source": [
    "studentsP.loc[2,'student']='Lito'\n",
    "studentsP"
   ]
  },
  {
   "cell_type": "code",
   "execution_count": 21,
   "metadata": {
    "id": "qbCog4MX2R3l"
   },
   "outputs": [
    {
     "name": "stdout",
     "output_type": "stream",
     "text": [
      "    student age    edu country\n",
      "1      Qing  32   Bach   China\n",
      "2 Françoise  33   Bach Senegal\n",
      "3      Lito  28 Master  España\n",
      "4     Bjork  30    PhD  Norway\n",
      "5     Marie  29    PhD   Korea\n"
     ]
    }
   ],
   "source": [
    "%%R\n",
    "\n",
    "studentsR[3,'student']='Lito'\n",
    "studentsR"
   ]
  },
  {
   "cell_type": "code",
   "execution_count": 22,
   "metadata": {
    "id": "AH3my_f73VPM"
   },
   "outputs": [
    {
     "data": {
      "text/html": [
       "<div>\n",
       "<style scoped>\n",
       "    .dataframe tbody tr th:only-of-type {\n",
       "        vertical-align: middle;\n",
       "    }\n",
       "\n",
       "    .dataframe tbody tr th {\n",
       "        vertical-align: top;\n",
       "    }\n",
       "\n",
       "    .dataframe thead th {\n",
       "        text-align: right;\n",
       "    }\n",
       "</style>\n",
       "<table border=\"1\" class=\"dataframe\">\n",
       "  <thead>\n",
       "    <tr style=\"text-align: right;\">\n",
       "      <th></th>\n",
       "      <th>student</th>\n",
       "      <th>age</th>\n",
       "      <th>edu</th>\n",
       "      <th>country</th>\n",
       "    </tr>\n",
       "  </thead>\n",
       "  <tbody>\n",
       "    <tr>\n",
       "      <th>0</th>\n",
       "      <td>Qing</td>\n",
       "      <td>32</td>\n",
       "      <td>Bach</td>\n",
       "      <td>China</td>\n",
       "    </tr>\n",
       "    <tr>\n",
       "      <th>1</th>\n",
       "      <td>Françoise</td>\n",
       "      <td>33</td>\n",
       "      <td>Bach</td>\n",
       "      <td>Senegal</td>\n",
       "    </tr>\n",
       "    <tr>\n",
       "      <th>2</th>\n",
       "      <td>Lito</td>\n",
       "      <td>32</td>\n",
       "      <td>Master</td>\n",
       "      <td>España</td>\n",
       "    </tr>\n",
       "    <tr>\n",
       "      <th>3</th>\n",
       "      <td>Bjork</td>\n",
       "      <td>30</td>\n",
       "      <td>PhD</td>\n",
       "      <td>Norway</td>\n",
       "    </tr>\n",
       "    <tr>\n",
       "      <th>4</th>\n",
       "      <td>Marie</td>\n",
       "      <td>31</td>\n",
       "      <td>PhD</td>\n",
       "      <td>Korea</td>\n",
       "    </tr>\n",
       "  </tbody>\n",
       "</table>\n",
       "</div>"
      ],
      "text/plain": [
       "     student  age     edu  country\n",
       "0       Qing   32    Bach    China\n",
       "1  Françoise   33    Bach  Senegal\n",
       "2       Lito   32  Master   España\n",
       "3      Bjork   30     PhD   Norway\n",
       "4      Marie   31     PhD    Korea"
      ]
     },
     "execution_count": 22,
     "metadata": {},
     "output_type": "execute_result"
    }
   ],
   "source": [
    "studentsP.loc[[2,4],'age']=[32,31]\n",
    "studentsP"
   ]
  },
  {
   "cell_type": "code",
   "execution_count": 23,
   "metadata": {
    "id": "2mj_iEWN5WWp"
   },
   "outputs": [
    {
     "name": "stdout",
     "output_type": "stream",
     "text": [
      "    student age    edu country\n",
      "1      Qing  32   Bach   China\n",
      "2 Françoise  33   Bach Senegal\n",
      "3      Lito  32 Master  España\n",
      "4     Bjork  30    PhD  Norway\n",
      "5     Marie  31    PhD   Korea\n"
     ]
    }
   ],
   "source": [
    "%%R\n",
    "\n",
    "studentsR[c(3,5),'age']=c(32,31)\n",
    "studentsR"
   ]
  },
  {
   "cell_type": "markdown",
   "metadata": {
    "id": "irc_DriD7BL8"
   },
   "source": [
    "## 4. Deleting"
   ]
  },
  {
   "cell_type": "code",
   "execution_count": null,
   "metadata": {
    "id": "DDTZkXaksrJC"
   },
   "outputs": [],
   "source": [
    "# make copy\n",
    "studentsP_new=studentsP.copy()"
   ]
  },
  {
   "cell_type": "code",
   "execution_count": null,
   "metadata": {
    "id": "I7AztkXis0Y-"
   },
   "outputs": [],
   "source": [
    "%%R\n",
    "# make copy\n",
    "studentsR_new=studentsR"
   ]
  },
  {
   "cell_type": "markdown",
   "metadata": {
    "id": "kNZPGMXCtWjH"
   },
   "source": [
    "### Deleting rows\n"
   ]
  },
  {
   "cell_type": "code",
   "execution_count": null,
   "metadata": {
    "id": "z-DeQOPatWjH"
   },
   "outputs": [],
   "source": [
    "byeRows=[2,3]\n",
    "studentsP_new.drop(index=byeRows,inplace=True) #inplace=inmediately\n",
    "#then\n",
    "studentsP_new"
   ]
  },
  {
   "cell_type": "markdown",
   "metadata": {
    "id": "F_CZVds5tWjJ"
   },
   "source": [
    "As you see, the indexes dissapeared. Then, you should reset the indexes:"
   ]
  },
  {
   "cell_type": "code",
   "execution_count": null,
   "metadata": {
    "id": "6jfrFl1LtWjJ"
   },
   "outputs": [],
   "source": [
    "studentsP_new.reset_index(drop=True,inplace=True)\n",
    "#then\n",
    "studentsP_new"
   ]
  },
  {
   "cell_type": "code",
   "execution_count": null,
   "metadata": {
    "id": "tNu6lZWW75kK"
   },
   "outputs": [],
   "source": [
    "%%R\n",
    "byeRows=c(3,4)\n",
    "studentsR_new=studentsR_new[-byeRows,] # rewriting (NO 'inplace')\n",
    "#then\n",
    "studentsR_new"
   ]
  },
  {
   "cell_type": "code",
   "execution_count": null,
   "metadata": {
    "id": "dCcEI9osuwAz"
   },
   "outputs": [],
   "source": [
    "%%R\n",
    "#reset indexes\n",
    "row.names(studentsR_new)=NULL\n",
    "#then\n",
    "studentsR_new"
   ]
  },
  {
   "cell_type": "markdown",
   "metadata": {
    "id": "umb6K9uytWi8"
   },
   "source": [
    "### Deleting columns"
   ]
  },
  {
   "cell_type": "code",
   "execution_count": null,
   "metadata": {
    "id": "f5wrE0oNtWi_"
   },
   "outputs": [],
   "source": [
    "# This is what you want get rid of:\n",
    "byeColumns=['edu'] # you can delete more than one\n",
    "\n",
    "#this is the result\n",
    "studentsP_new.drop(columns=byeColumns,inplace=True)\n",
    "#then\n",
    "studentsP_new"
   ]
  },
  {
   "cell_type": "code",
   "execution_count": null,
   "metadata": {
    "id": "iugn8DE6-_vI"
   },
   "outputs": [],
   "source": [
    "%%R\n",
    "\n",
    "byeColumns=c('edu') # this doesn't work: studentsR_new[,-byeColumns]\n",
    "keepCols=setdiff(names(studentsR_new),byeColumns)\n",
    "studentsR_new=studentsR_new[,keepCols]\n",
    "#then\n",
    "studentsR_new\n"
   ]
  },
  {
   "cell_type": "markdown",
   "metadata": {
    "id": "JtogOkiQziXv"
   },
   "source": [
    "### Deleting cells"
   ]
  },
  {
   "cell_type": "code",
   "execution_count": null,
   "metadata": {
    "id": "gh75yvaxzeCC"
   },
   "outputs": [],
   "source": [
    "studentsP_new.loc[2,'country']=pd.NA\n",
    "#then\n",
    "studentsP_new\n"
   ]
  },
  {
   "cell_type": "code",
   "execution_count": null,
   "metadata": {
    "id": "798EEio11LRF"
   },
   "outputs": [],
   "source": [
    "%%R\n",
    "studentsR_new[3,'country']=NA\n",
    "#then\n",
    "studentsR_new"
   ]
  },
  {
   "cell_type": "markdown",
   "metadata": {
    "id": "jurIHo8xLZVb"
   },
   "source": [
    "## Inserting"
   ]
  },
  {
   "cell_type": "code",
   "execution_count": null,
   "metadata": {
    "id": "WBgj0NrexcHN"
   },
   "outputs": [],
   "source": [
    "#currently\n",
    "studentsP"
   ]
  },
  {
   "cell_type": "code",
   "execution_count": null,
   "metadata": {
    "id": "GBCT012MLc6d"
   },
   "outputs": [],
   "source": [
    "femaleP=[True,True,False,False,True]\n",
    "studentsP1=studentsP.assign(female=femaleP)\n",
    "#then\n",
    "studentsP1"
   ]
  },
  {
   "cell_type": "code",
   "execution_count": null,
   "metadata": {
    "id": "KTMTMfAkN14M"
   },
   "outputs": [],
   "source": [
    "#another way\n",
    "studentsP2=studentsP.copy()\n",
    "studentsP2['female']=femaleP\n",
    "#then\n",
    "studentsP2"
   ]
  },
  {
   "cell_type": "code",
   "execution_count": null,
   "metadata": {
    "id": "akbCZgdjNZJb"
   },
   "outputs": [],
   "source": [
    "#yet another way\n",
    "studentsP3=studentsP.copy()\n",
    "studentsP3.loc[:,'female']=femaleP\n",
    "studentsP3"
   ]
  },
  {
   "cell_type": "code",
   "execution_count": null,
   "metadata": {
    "id": "XYPl85yEPHdv"
   },
   "outputs": [],
   "source": [
    "%%R\n",
    "femaleR=c(T,T,F,F,T)\n",
    "studentsR1=cbind(studentsR,female=femaleR)\n",
    "studentsR1"
   ]
  },
  {
   "cell_type": "code",
   "execution_count": null,
   "metadata": {
    "id": "oaqD2n83OgtN"
   },
   "outputs": [],
   "source": [
    "%%R\n",
    "studentsR2=studentsR\n",
    "studentsR2$female=femaleR\n",
    "studentsR2"
   ]
  },
  {
   "cell_type": "code",
   "execution_count": null,
   "metadata": {
    "id": "___kNEQ4PpJJ"
   },
   "outputs": [],
   "source": [
    "%%R\n",
    "studentsR3=studentsR\n",
    "studentsR3[,'female']=femaleR\n",
    "studentsR3"
   ]
  },
  {
   "cell_type": "markdown",
   "metadata": {
    "id": "R13g85HDtWiR"
   },
   "source": [
    "## Other basic operations"
   ]
  },
  {
   "cell_type": "code",
   "execution_count": null,
   "metadata": {
    "id": "VRaEn3gptWiR"
   },
   "outputs": [],
   "source": [
    "# data of structure: list? tuple? dataframe?\n",
    "type(studentsP)"
   ]
  },
  {
   "cell_type": "code",
   "execution_count": null,
   "metadata": {
    "id": "M8lBhAxYBMZ4"
   },
   "outputs": [],
   "source": [
    "%%R\n",
    "class(studentsR)"
   ]
  },
  {
   "cell_type": "code",
   "execution_count": null,
   "metadata": {
    "id": "G1MRSmdetWiV"
   },
   "outputs": [],
   "source": [
    "# type of data in data frame column\n",
    "studentsP.info()"
   ]
  },
  {
   "cell_type": "code",
   "execution_count": null,
   "metadata": {
    "id": "XU7LZVYitWiZ"
   },
   "outputs": [],
   "source": [
    "# details of data frame\n",
    "%%R\n",
    "\n",
    "str(studentsR)"
   ]
  },
  {
   "cell_type": "code",
   "execution_count": null,
   "metadata": {
    "id": "RBT60oJvtWid"
   },
   "outputs": [],
   "source": [
    "# number of rows and columns\n",
    "studentsP.shape"
   ]
  },
  {
   "cell_type": "code",
   "execution_count": null,
   "metadata": {
    "id": "rzN79pLyBjwK"
   },
   "outputs": [],
   "source": [
    "%%R\n",
    "dim(studentsR)"
   ]
  },
  {
   "cell_type": "code",
   "execution_count": null,
   "metadata": {
    "id": "EaA4xitwtWif"
   },
   "outputs": [],
   "source": [
    "# number of rows:\n",
    "len(studentsP)"
   ]
  },
  {
   "cell_type": "code",
   "execution_count": null,
   "metadata": {
    "id": "4q_W0LL6B2ct"
   },
   "outputs": [],
   "source": [
    "%%R\n",
    "\n",
    "length(studentsR)"
   ]
  },
  {
   "cell_type": "code",
   "execution_count": null,
   "metadata": {
    "id": "9Vpvd-7RtWij"
   },
   "outputs": [],
   "source": [
    "# first rows\n",
    "studentsP.head(2) # compare with: studentsP.tail(2)"
   ]
  },
  {
   "cell_type": "code",
   "execution_count": null,
   "metadata": {
    "id": "CK5Ly1H_CAHy"
   },
   "outputs": [],
   "source": [
    "%%R\n",
    "head(studentsR,2) # compare with: tail(studentsR,2)"
   ]
  },
  {
   "cell_type": "code",
   "execution_count": null,
   "metadata": {
    "id": "QHsnwLhgtWik"
   },
   "outputs": [],
   "source": [
    "# name of columns\n",
    "studentsP.columns"
   ]
  },
  {
   "cell_type": "code",
   "execution_count": null,
   "metadata": {
    "id": "yLxgD_CWCKOu"
   },
   "outputs": [],
   "source": [
    "%%R\n",
    "names(studentsR)"
   ]
  },
  {
   "cell_type": "markdown",
   "metadata": {
    "id": "ixodYzmqj7Rd"
   },
   "source": [
    "## Queries"
   ]
  },
  {
   "cell_type": "code",
   "execution_count": null,
   "metadata": {
    "id": "HIxFHtQbj_Nm"
   },
   "outputs": [],
   "source": [
    "studentsP1.iloc[0,1]=33\n",
    "studentsP1"
   ]
  },
  {
   "cell_type": "code",
   "execution_count": null,
   "metadata": {
    "id": "LEgEZrV_kXjH"
   },
   "outputs": [],
   "source": [
    "#who is the oldest?\n",
    "\n",
    "studentsP1[studentsP1.age==max(studentsP1.age)]"
   ]
  },
  {
   "cell_type": "code",
   "execution_count": null,
   "metadata": {
    "id": "zdI-qh6nk1Iy"
   },
   "outputs": [],
   "source": [
    "studentsP1[studentsP1.age==studentsP1.age.max()]['student']"
   ]
  },
  {
   "cell_type": "code",
   "execution_count": null,
   "metadata": {
    "id": "5dHHOA0ckSo_"
   },
   "outputs": [],
   "source": [
    "%%R\n",
    "studentsR1[1,2]=33\n",
    "studentsR1\n"
   ]
  },
  {
   "cell_type": "code",
   "execution_count": null,
   "metadata": {
    "id": "VBtqIfRdkWB-"
   },
   "outputs": [],
   "source": [
    "%%R\n",
    "\n",
    "#who is the oldest?\n",
    "\n",
    "studentsR1[which.max(studentsR1$age),]"
   ]
  },
  {
   "cell_type": "code",
   "execution_count": null,
   "metadata": {
    "id": "wClJyaO5oyE9"
   },
   "outputs": [],
   "source": [
    "%%R\n",
    "studentsR1[studentsR1$age==max(studentsR1$age),]"
   ]
  },
  {
   "cell_type": "code",
   "execution_count": null,
   "metadata": {
    "id": "zEA5r2lYo34k"
   },
   "outputs": [],
   "source": [
    "%%R\n",
    "studentsR1[studentsR1$age==max(studentsR1$age),'student']"
   ]
  },
  {
   "cell_type": "code",
   "execution_count": null,
   "metadata": {
    "id": "fXfjIQQdqavQ"
   },
   "outputs": [],
   "source": [
    "#who has PhD?\n",
    "\n",
    "studentsP1[studentsP1.edu=='PhD']"
   ]
  },
  {
   "cell_type": "code",
   "execution_count": null,
   "metadata": {
    "id": "2tVDO3Mcqt7Y"
   },
   "outputs": [],
   "source": [
    "%%R\n",
    "studentsR1[studentsR1$edu=='PhD',]"
   ]
  },
  {
   "cell_type": "code",
   "execution_count": null,
   "metadata": {
    "id": "kbw5wTlpqiAK"
   },
   "outputs": [],
   "source": [
    "#who has PhD or Master?\n",
    "studentsP1[studentsP1.edu.isin(['PhD','Master'])]"
   ]
  },
  {
   "cell_type": "code",
   "execution_count": null,
   "metadata": {
    "id": "svxxw9Hgq3sA"
   },
   "outputs": [],
   "source": [
    "%%R\n",
    "studentsR1[studentsR1$edu %in% c('PhD','Master'),]"
   ]
  },
  {
   "cell_type": "code",
   "execution_count": null,
   "metadata": {
    "id": "TeE8AztCrDiz"
   },
   "outputs": [],
   "source": [
    "#who does not has PhD or Master?\n",
    "studentsP1[~studentsP1.edu.isin(['PhD','Master'])]"
   ]
  },
  {
   "cell_type": "code",
   "execution_count": null,
   "metadata": {
    "id": "qAof0v9Qrfw2"
   },
   "outputs": [],
   "source": [
    "%%R\n",
    "studentsR1[!studentsR1$edu %in% c('PhD','Master'),]"
   ]
  },
  {
   "cell_type": "code",
   "execution_count": null,
   "metadata": {
    "id": "c4zavUHDrjNs"
   },
   "outputs": [],
   "source": [
    "#the youngest female\n",
    "studentsP1[studentsP1.female]"
   ]
  },
  {
   "cell_type": "code",
   "execution_count": null,
   "metadata": {
    "id": "CTTPDmL0sA5w"
   },
   "outputs": [],
   "source": [
    "studentsP1[studentsP1.female].sort_values(by=['age'],ascending=True).iloc[0,0]"
   ]
  },
  {
   "cell_type": "code",
   "execution_count": null,
   "metadata": {
    "id": "fmjqIu_BwGzM"
   },
   "outputs": [],
   "source": [
    "%%R\n",
    "studentsR1[studentsR1$female,]"
   ]
  },
  {
   "cell_type": "code",
   "execution_count": null,
   "metadata": {
    "id": "brSODwTTwOJx"
   },
   "outputs": [],
   "source": [
    "%%R\n",
    "tail(studentsR1[studentsR1$female,][order(studentsR1$age)],1)"
   ]
  },
  {
   "cell_type": "code",
   "execution_count": null,
   "metadata": {
    "id": "b3550Z-kwWkB"
   },
   "outputs": [],
   "source": [
    "studentsP1[studentsP1.female & studentsP1.age==studentsP1.age.min()]"
   ]
  },
  {
   "cell_type": "code",
   "execution_count": null,
   "metadata": {
    "id": "wGeUO5FZMXUS"
   },
   "outputs": [],
   "source": [
    "femdf=studentsP1[studentsP1.female]\n",
    "femdf"
   ]
  },
  {
   "cell_type": "code",
   "execution_count": null,
   "metadata": {
    "id": "tNY1mqWpMiyA"
   },
   "outputs": [],
   "source": [
    "femdf[femdf.age==femdf.age.min()]"
   ]
  }
 ],
 "metadata": {
  "anaconda-cloud": {
   "attach-environment": true,
   "summary": "test"
  },
  "colab": {
   "provenance": [],
   "toc_visible": true
  },
  "hide_input": false,
  "kernelspec": {
   "display_name": "Python 3 (ipykernel)",
   "language": "python",
   "name": "python3"
  },
  "language_info": {
   "codemirror_mode": {
    "name": "ipython",
    "version": 3
   },
   "file_extension": ".py",
   "mimetype": "text/x-python",
   "name": "python",
   "nbconvert_exporter": "python",
   "pygments_lexer": "ipython3",
   "version": "3.12.0"
  }
 },
 "nbformat": 4,
 "nbformat_minor": 4
}
